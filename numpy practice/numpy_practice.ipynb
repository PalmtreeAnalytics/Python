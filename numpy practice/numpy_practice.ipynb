{
  "nbformat": 4,
  "nbformat_minor": 0,
  "metadata": {
    "colab": {
      "provenance": []
    },
    "kernelspec": {
      "name": "python3",
      "display_name": "Python 3"
    },
    "language_info": {
      "name": "python"
    }
  },
  "cells": [
    {
      "cell_type": "code",
      "execution_count": null,
      "metadata": {
        "id": "9XDb0x-azn3X"
      },
      "outputs": [],
      "source": [
        "import numpy as np"
      ]
    },
    {
      "cell_type": "markdown",
      "source": [
        "create numpy array using int and float datatype"
      ],
      "metadata": {
        "id": "8un5D2cMzter"
      }
    },
    {
      "cell_type": "code",
      "source": [
        "f = np.array([[1,2,3],[4,5,6]], dtype=np.float32)\n",
        "i = np.array([[1,2,3],[4,5,6]], dtype=int)\n",
        "\n",
        "print(f)\n",
        "print()\n",
        "print(i)"
      ],
      "metadata": {
        "colab": {
          "base_uri": "https://localhost:8080/"
        },
        "id": "fRc2DM_70dmf",
        "outputId": "80684a37-c1bc-4000-b52c-91fddebc25ff"
      },
      "execution_count": null,
      "outputs": [
        {
          "output_type": "stream",
          "name": "stdout",
          "text": [
            "[[1. 2. 3.]\n",
            " [4. 5. 6.]]\n",
            "\n",
            "[[1 2 3]\n",
            " [4 5 6]]\n"
          ]
        }
      ]
    },
    {
      "cell_type": "markdown",
      "source": [
        "create arrays with 0,1,2,3,4 dimensions and print shape and dimensions of created arrays"
      ],
      "metadata": {
        "id": "Q-iQgsgD06HT"
      }
    },
    {
      "cell_type": "code",
      "source": [
        "zero = np.zeros(0)\n",
        "one = np.zeros((1))\n",
        "two = np.zeros((2,2))\n",
        "three = np.zeros((3,3,3))\n",
        "four = np.zeros((4,4,4,4))\n",
        "\n",
        "print(\"shape\")\n",
        "print(zero.shape)\n",
        "print(one.shape)\n",
        "print(two.shape)\n",
        "print(three.shape)\n",
        "print(four.shape)\n",
        "print()\n",
        "print(\"dimensions\")\n",
        "print(zero.ndim)\n",
        "print(one.ndim)\n",
        "print(two.ndim)\n",
        "print(three.ndim)\n",
        "print(four.ndim)"
      ],
      "metadata": {
        "colab": {
          "base_uri": "https://localhost:8080/"
        },
        "id": "C6RvcECe056I",
        "outputId": "b798a0b0-3b26-47a8-be16-1440e7b0f74d"
      },
      "execution_count": null,
      "outputs": [
        {
          "output_type": "stream",
          "name": "stdout",
          "text": [
            "shape\n",
            "(0,)\n",
            "(1,)\n",
            "(2, 2)\n",
            "(3, 3, 3)\n",
            "(4, 4, 4, 4)\n",
            "\n",
            "dimensions\n",
            "1\n",
            "1\n",
            "2\n",
            "3\n",
            "4\n"
          ]
        }
      ]
    },
    {
      "cell_type": "markdown",
      "source": [
        "create 2x2 3x3 4x4 identity matrix"
      ],
      "metadata": {
        "id": "N56uG5wd3eOE"
      }
    },
    {
      "cell_type": "code",
      "source": [
        "twoBYtwo = np.eye(2,dtype=int)\n",
        "threeBYthree = np.eye(3,dtype=int)\n",
        "fourBYfour = np.eye(4,dtype=int)\n",
        "\n",
        "print(twoBYtwo)\n",
        "print()\n",
        "print(threeBYthree)\n",
        "print()\n",
        "print(fourBYfour)"
      ],
      "metadata": {
        "colab": {
          "base_uri": "https://localhost:8080/"
        },
        "id": "QCUe8WWe3jus",
        "outputId": "cfd45de1-3364-4293-9a9c-da835165282b"
      },
      "execution_count": null,
      "outputs": [
        {
          "output_type": "stream",
          "name": "stdout",
          "text": [
            "[[1 0]\n",
            " [0 1]]\n",
            "\n",
            "[[1 0 0]\n",
            " [0 1 0]\n",
            " [0 0 1]]\n",
            "\n",
            "[[1 0 0 0]\n",
            " [0 1 0 0]\n",
            " [0 0 1 0]\n",
            " [0 0 0 1]]\n"
          ]
        }
      ]
    },
    {
      "cell_type": "markdown",
      "source": [
        "2x5 with all 0 elements"
      ],
      "metadata": {
        "id": "QhBygAXy7qD4"
      }
    },
    {
      "cell_type": "code",
      "source": [
        "np.zeros((2,5),dtype=int)"
      ],
      "metadata": {
        "colab": {
          "base_uri": "https://localhost:8080/"
        },
        "id": "_YSVn_q87tlu",
        "outputId": "854ad67f-50d1-4905-9ef6-46f8013f3818"
      },
      "execution_count": null,
      "outputs": [
        {
          "output_type": "execute_result",
          "data": {
            "text/plain": [
              "array([[0, 0, 0, 0, 0],\n",
              "       [0, 0, 0, 0, 0]])"
            ]
          },
          "metadata": {},
          "execution_count": 8
        }
      ]
    },
    {
      "cell_type": "markdown",
      "source": [
        "3x5 with all elements = 5"
      ],
      "metadata": {
        "id": "30bNWEyA712P"
      }
    },
    {
      "cell_type": "code",
      "source": [
        "np.full((3,5),5)"
      ],
      "metadata": {
        "colab": {
          "base_uri": "https://localhost:8080/"
        },
        "id": "wHT5WZ1R75uw",
        "outputId": "5a4e9981-5c26-42b0-95a2-0d9ac25435a4"
      },
      "execution_count": null,
      "outputs": [
        {
          "output_type": "execute_result",
          "data": {
            "text/plain": [
              "array([[5, 5, 5, 5, 5],\n",
              "       [5, 5, 5, 5, 5],\n",
              "       [5, 5, 5, 5, 5]])"
            ]
          },
          "metadata": {},
          "execution_count": 9
        }
      ]
    },
    {
      "cell_type": "markdown",
      "source": [
        "random integers from 0-100 with sample size 25"
      ],
      "metadata": {
        "id": "y-JKYS2c8HOo"
      }
    },
    {
      "cell_type": "code",
      "source": [
        "np.random.randint(0,100,(5,5))"
      ],
      "metadata": {
        "colab": {
          "base_uri": "https://localhost:8080/"
        },
        "id": "NaDsAuak8hiw",
        "outputId": "eaf2cee8-a7c9-4da2-e4e1-b1d6c8dfd4a3"
      },
      "execution_count": null,
      "outputs": [
        {
          "output_type": "execute_result",
          "data": {
            "text/plain": [
              "array([[41, 76, 19, 12, 13],\n",
              "       [55, 51, 96, 56, 59],\n",
              "       [94, 15, 39, 32, 53],\n",
              "       [97, 49,  2, 76, 56],\n",
              "       [64, 25, 30, 96, 63]])"
            ]
          },
          "metadata": {},
          "execution_count": 24
        }
      ]
    },
    {
      "cell_type": "markdown",
      "source": [
        "3x3 with elements = 1"
      ],
      "metadata": {
        "id": "rod2H8TK9Og_"
      }
    },
    {
      "cell_type": "code",
      "source": [
        "np.full((3,3),1)"
      ],
      "metadata": {
        "colab": {
          "base_uri": "https://localhost:8080/"
        },
        "id": "QkN5-SMP9OQU",
        "outputId": "5b4b30ca-c7c9-4a98-bda6-a65748b9e12f"
      },
      "execution_count": null,
      "outputs": [
        {
          "output_type": "execute_result",
          "data": {
            "text/plain": [
              "array([[1, 1, 1],\n",
              "       [1, 1, 1],\n",
              "       [1, 1, 1]])"
            ]
          },
          "metadata": {},
          "execution_count": 25
        }
      ]
    },
    {
      "cell_type": "markdown",
      "source": [
        "2x3 with random b/w 1-100 and then reshape it into 3x2"
      ],
      "metadata": {
        "id": "ZXqA8wl49jXy"
      }
    },
    {
      "cell_type": "code",
      "source": [
        "a = np.random.randint(0,100,(2,3))\n",
        "a.reshape(3,2)\n",
        "a"
      ],
      "metadata": {
        "colab": {
          "base_uri": "https://localhost:8080/"
        },
        "id": "mWxBLTVL9lyr",
        "outputId": "ac282b2c-3e4e-45c1-c67a-700da7e4d5c8"
      },
      "execution_count": null,
      "outputs": [
        {
          "output_type": "execute_result",
          "data": {
            "text/plain": [
              "array([[72,  1, 85],\n",
              "       [68, 40, 55]])"
            ]
          },
          "metadata": {},
          "execution_count": 27
        }
      ]
    },
    {
      "cell_type": "markdown",
      "source": [
        "random from 0-1000 and size 50\n",
        "\n",
        "perform the following operations\n",
        "\n",
        "1 print first 10 elements\n",
        "\n",
        "2 last 10\n",
        "\n",
        "3 from 0 to 25\n",
        "\n",
        "4 at index 22\n",
        "\n",
        "5 last 10 using -ve index\n",
        "\n"
      ],
      "metadata": {
        "id": "6YWpISFx9s-c"
      }
    },
    {
      "cell_type": "code",
      "source": [
        "a = np.random.randint(0,1000,(50))\n",
        "\n",
        "print(a[0:10])\n",
        "print()\n",
        "print(a[40:51])\n",
        "print()\n",
        "print(a[0:25])\n",
        "print()\n",
        "print(a[22])\n",
        "print()\n",
        "print(a[-10:-1])"
      ],
      "metadata": {
        "colab": {
          "base_uri": "https://localhost:8080/"
        },
        "id": "yMyKCFbB9_p9",
        "outputId": "62736409-397a-4c7b-d7d1-70201fd043a7"
      },
      "execution_count": null,
      "outputs": [
        {
          "output_type": "stream",
          "name": "stdout",
          "text": [
            "[856 378 811 581  99 656 395 894 383  54]\n",
            "\n",
            "[885 893 403 632 462 832 293 673 151 318]\n",
            "\n",
            "[856 378 811 581  99 656 395 894 383  54 448 636 512 123   8 473  29 482\n",
            " 256 529 206 711  13 787 106]\n",
            "\n",
            "13\n",
            "\n",
            "[885 893 403 632 462 832 293 673 151]\n"
          ]
        }
      ]
    },
    {
      "cell_type": "markdown",
      "source": [
        "a = [1,2,3,4,5]\n",
        "\n",
        "insert 6 at end\n",
        "\n",
        "insert 10 at start\n",
        "\n",
        "30 before 4\n",
        "\n",
        "update 5 = 50\n",
        "\n",
        "delete 50\n",
        "\n",
        "search for 30\n",
        "\n",
        "sort"
      ],
      "metadata": {
        "id": "2SD_CgtM_05j"
      }
    },
    {
      "cell_type": "code",
      "source": [
        "a = np.array([1,2,3,4,5])\n",
        "a = np.append(a,6)\n",
        "print(a)\n",
        "print()\n",
        "a = np.insert(a,0,10)\n",
        "print(a)\n",
        "print()\n",
        "a = np.insert(a,4,30)\n",
        "print(a)\n",
        "print()\n",
        "a[a==5] = 50\n",
        "print(a)\n",
        "print()\n",
        "a = np.delete(a, a==50)\n",
        "print(a)\n",
        "print()\n",
        "x = np.where(a==30)\n",
        "print(x)\n",
        "print()\n",
        "a = np.sort(a)\n",
        "print(a)"
      ],
      "metadata": {
        "colab": {
          "base_uri": "https://localhost:8080/"
        },
        "id": "oVtQCsBaAGXh",
        "outputId": "06e3b7fd-6959-4286-ba1e-a76f5230125d"
      },
      "execution_count": null,
      "outputs": [
        {
          "output_type": "stream",
          "name": "stdout",
          "text": [
            "[1 2 3 4 5 6]\n",
            "\n",
            "[10  1  2  3  4  5  6]\n",
            "\n",
            "[10  1  2  3 30  4  5  6]\n",
            "\n",
            "[10  1  2  3 30  4 50  6]\n",
            "\n",
            "[10  1  2  3 30  4  6]\n",
            "\n",
            "(array([4]),)\n",
            "\n",
            "[ 1  2  3  4  6 10 30]\n"
          ]
        }
      ]
    },
    {
      "cell_type": "code",
      "source": [
        "a = np.random.randint(2,70,(2,4))\n",
        "b = np.random.randint(2,70,(4,2))\n",
        "print(a)\n",
        "print()\n",
        "print(b)\n",
        "print()\n",
        "np.dot(a,b)"
      ],
      "metadata": {
        "colab": {
          "base_uri": "https://localhost:8080/"
        },
        "id": "EMhqy7LzDnyY",
        "outputId": "b5aad421-b096-429a-cfce-a896a2498456"
      },
      "execution_count": null,
      "outputs": [
        {
          "output_type": "stream",
          "name": "stdout",
          "text": [
            "[[44 34 57 64]\n",
            " [38 42 50 12]]\n",
            "\n",
            "[[11 30]\n",
            " [12 34]\n",
            " [10 34]\n",
            " [59 69]]\n",
            "\n"
          ]
        },
        {
          "output_type": "execute_result",
          "data": {
            "text/plain": [
              "array([[5238, 8830],\n",
              "       [2130, 5096]])"
            ]
          },
          "metadata": {},
          "execution_count": 64
        }
      ]
    },
    {
      "cell_type": "markdown",
      "source": [
        "a = [1,2,3,4]\n",
        "b = [5,6,7,8]\n",
        "\n",
        "\n",
        "---\n",
        "\n",
        "\n",
        "add a,b\n",
        "subtract a,b\n",
        "multiply with 1)5 2)eachother\n",
        "\n",
        "---\n",
        "\n",
        "divide 1)by 2 \n",
        "\n",
        "2)a with b \n",
        "\n",
        "3)b with a"
      ],
      "metadata": {
        "id": "bN1hMqeNCb-c"
      }
    },
    {
      "cell_type": "code",
      "source": [
        "a = np.array([1,2,3,4])\n",
        "b = np.array([5,6,7,8])\n",
        "\n",
        "print(a+b)\n",
        "print()\n",
        "print(a-5)\n",
        "print()\n",
        "print(b-5)\n",
        "print()\n",
        "print(b-a)\n",
        "print()\n",
        "print(f'a/2 = {a/2}')\n",
        "print()\n",
        "print(f'b/2 = {b/2}')\n",
        "print()\n",
        "print(f'a/b = {a/b}')\n",
        "print()\n",
        "print(f'b/a = {b/a}')"
      ],
      "metadata": {
        "id": "ilrm5GeyEYGq",
        "colab": {
          "base_uri": "https://localhost:8080/"
        },
        "outputId": "0c2648a9-0aa9-40f3-ed06-eb51b624a295"
      },
      "execution_count": null,
      "outputs": [
        {
          "output_type": "stream",
          "name": "stdout",
          "text": [
            "[ 6  8 10 12]\n",
            "\n",
            "[-4 -3 -2 -1]\n",
            "\n",
            "[0 1 2 3]\n",
            "\n",
            "[4 4 4 4]\n",
            "\n",
            "a/2 = [0.5 1.  1.5 2. ]\n",
            "\n",
            "b/2 = [2.5 3.  3.5 4. ]\n",
            "\n",
            "a/b = [0.2        0.33333333 0.42857143 0.5       ]\n",
            "\n",
            "b/a = [5.         3.         2.33333333 2.        ]\n"
          ]
        }
      ]
    },
    {
      "cell_type": "markdown",
      "source": [
        "a = np.array([[2,6],[6,13]])\n",
        "\n",
        "b = np.array([[1,4],[2,11]])\n",
        "\n",
        "matrix multiplication of a and b\n",
        "\n",
        "sqrt of a and b"
      ],
      "metadata": {
        "id": "de8z_h99D_XS"
      }
    },
    {
      "cell_type": "code",
      "source": [
        "a = np.array([[2,6],[6,13]])\n",
        "b = np.array([[1,4],[2,11]])\n",
        "\n",
        "print(np.dot(a,b))\n",
        "print()\n",
        "print(np.sqrt(a))\n",
        "print()\n",
        "print(np.sqrt(b))"
      ],
      "metadata": {
        "colab": {
          "base_uri": "https://localhost:8080/"
        },
        "id": "Z6IU65nODMpL",
        "outputId": "e70fbfc5-e4b9-4311-b9da-7ff59073a1fc"
      },
      "execution_count": null,
      "outputs": [
        {
          "output_type": "stream",
          "name": "stdout",
          "text": [
            "[[ 14  74]\n",
            " [ 32 167]]\n",
            "\n",
            "[[1.41421356 2.44948974]\n",
            " [2.44948974 3.60555128]]\n",
            "\n",
            "[[1.         2.        ]\n",
            " [1.41421356 3.31662479]]\n"
          ]
        }
      ]
    },
    {
      "cell_type": "markdown",
      "source": [
        "3x3 with random values and flatten with reshape"
      ],
      "metadata": {
        "id": "9lCDpMzUEsco"
      }
    },
    {
      "cell_type": "code",
      "source": [
        "a = np.random.randint(0,1000,(3,3))\n",
        "np.ndarray.flatten(a)"
      ],
      "metadata": {
        "colab": {
          "base_uri": "https://localhost:8080/"
        },
        "id": "V7m1PL2nEsQh",
        "outputId": "0d4badcd-2ec4-49f8-a5bb-c481aeed68a8"
      },
      "execution_count": null,
      "outputs": [
        {
          "output_type": "execute_result",
          "data": {
            "text/plain": [
              "array([309, 308, 438, 835, 445, 887, 701, 277, 992])"
            ]
          },
          "metadata": {},
          "execution_count": 19
        }
      ]
    },
    {
      "cell_type": "markdown",
      "source": [
        "create array with all days of an year using datetime64 numpy module"
      ],
      "metadata": {
        "id": "0wxaEE4iFDtZ"
      }
    },
    {
      "cell_type": "code",
      "source": [
        "a = np.arange(np.datetime64('2023-01-01'),np.datetime64('2023-12-31'))\n",
        "a\n"
      ],
      "metadata": {
        "colab": {
          "base_uri": "https://localhost:8080/"
        },
        "id": "C1kb38otEkEU",
        "outputId": "61d1b639-136d-44d2-ffda-7be0fec92e70"
      },
      "execution_count": null,
      "outputs": [
        {
          "output_type": "execute_result",
          "data": {
            "text/plain": [
              "array(['2023-01-01', '2023-01-02', '2023-01-03', '2023-01-04',\n",
              "       '2023-01-05', '2023-01-06', '2023-01-07', '2023-01-08',\n",
              "       '2023-01-09', '2023-01-10', '2023-01-11', '2023-01-12',\n",
              "       '2023-01-13', '2023-01-14', '2023-01-15', '2023-01-16',\n",
              "       '2023-01-17', '2023-01-18', '2023-01-19', '2023-01-20',\n",
              "       '2023-01-21', '2023-01-22', '2023-01-23', '2023-01-24',\n",
              "       '2023-01-25', '2023-01-26', '2023-01-27', '2023-01-28',\n",
              "       '2023-01-29', '2023-01-30', '2023-01-31', '2023-02-01',\n",
              "       '2023-02-02', '2023-02-03', '2023-02-04', '2023-02-05',\n",
              "       '2023-02-06', '2023-02-07', '2023-02-08', '2023-02-09',\n",
              "       '2023-02-10', '2023-02-11', '2023-02-12', '2023-02-13',\n",
              "       '2023-02-14', '2023-02-15', '2023-02-16', '2023-02-17',\n",
              "       '2023-02-18', '2023-02-19', '2023-02-20', '2023-02-21',\n",
              "       '2023-02-22', '2023-02-23', '2023-02-24', '2023-02-25',\n",
              "       '2023-02-26', '2023-02-27', '2023-02-28', '2023-03-01',\n",
              "       '2023-03-02', '2023-03-03', '2023-03-04', '2023-03-05',\n",
              "       '2023-03-06', '2023-03-07', '2023-03-08', '2023-03-09',\n",
              "       '2023-03-10', '2023-03-11', '2023-03-12', '2023-03-13',\n",
              "       '2023-03-14', '2023-03-15', '2023-03-16', '2023-03-17',\n",
              "       '2023-03-18', '2023-03-19', '2023-03-20', '2023-03-21',\n",
              "       '2023-03-22', '2023-03-23', '2023-03-24', '2023-03-25',\n",
              "       '2023-03-26', '2023-03-27', '2023-03-28', '2023-03-29',\n",
              "       '2023-03-30', '2023-03-31', '2023-04-01', '2023-04-02',\n",
              "       '2023-04-03', '2023-04-04', '2023-04-05', '2023-04-06',\n",
              "       '2023-04-07', '2023-04-08', '2023-04-09', '2023-04-10',\n",
              "       '2023-04-11', '2023-04-12', '2023-04-13', '2023-04-14',\n",
              "       '2023-04-15', '2023-04-16', '2023-04-17', '2023-04-18',\n",
              "       '2023-04-19', '2023-04-20', '2023-04-21', '2023-04-22',\n",
              "       '2023-04-23', '2023-04-24', '2023-04-25', '2023-04-26',\n",
              "       '2023-04-27', '2023-04-28', '2023-04-29', '2023-04-30',\n",
              "       '2023-05-01', '2023-05-02', '2023-05-03', '2023-05-04',\n",
              "       '2023-05-05', '2023-05-06', '2023-05-07', '2023-05-08',\n",
              "       '2023-05-09', '2023-05-10', '2023-05-11', '2023-05-12',\n",
              "       '2023-05-13', '2023-05-14', '2023-05-15', '2023-05-16',\n",
              "       '2023-05-17', '2023-05-18', '2023-05-19', '2023-05-20',\n",
              "       '2023-05-21', '2023-05-22', '2023-05-23', '2023-05-24',\n",
              "       '2023-05-25', '2023-05-26', '2023-05-27', '2023-05-28',\n",
              "       '2023-05-29', '2023-05-30', '2023-05-31', '2023-06-01',\n",
              "       '2023-06-02', '2023-06-03', '2023-06-04', '2023-06-05',\n",
              "       '2023-06-06', '2023-06-07', '2023-06-08', '2023-06-09',\n",
              "       '2023-06-10', '2023-06-11', '2023-06-12', '2023-06-13',\n",
              "       '2023-06-14', '2023-06-15', '2023-06-16', '2023-06-17',\n",
              "       '2023-06-18', '2023-06-19', '2023-06-20', '2023-06-21',\n",
              "       '2023-06-22', '2023-06-23', '2023-06-24', '2023-06-25',\n",
              "       '2023-06-26', '2023-06-27', '2023-06-28', '2023-06-29',\n",
              "       '2023-06-30', '2023-07-01', '2023-07-02', '2023-07-03',\n",
              "       '2023-07-04', '2023-07-05', '2023-07-06', '2023-07-07',\n",
              "       '2023-07-08', '2023-07-09', '2023-07-10', '2023-07-11',\n",
              "       '2023-07-12', '2023-07-13', '2023-07-14', '2023-07-15',\n",
              "       '2023-07-16', '2023-07-17', '2023-07-18', '2023-07-19',\n",
              "       '2023-07-20', '2023-07-21', '2023-07-22', '2023-07-23',\n",
              "       '2023-07-24', '2023-07-25', '2023-07-26', '2023-07-27',\n",
              "       '2023-07-28', '2023-07-29', '2023-07-30', '2023-07-31',\n",
              "       '2023-08-01', '2023-08-02', '2023-08-03', '2023-08-04',\n",
              "       '2023-08-05', '2023-08-06', '2023-08-07', '2023-08-08',\n",
              "       '2023-08-09', '2023-08-10', '2023-08-11', '2023-08-12',\n",
              "       '2023-08-13', '2023-08-14', '2023-08-15', '2023-08-16',\n",
              "       '2023-08-17', '2023-08-18', '2023-08-19', '2023-08-20',\n",
              "       '2023-08-21', '2023-08-22', '2023-08-23', '2023-08-24',\n",
              "       '2023-08-25', '2023-08-26', '2023-08-27', '2023-08-28',\n",
              "       '2023-08-29', '2023-08-30', '2023-08-31', '2023-09-01',\n",
              "       '2023-09-02', '2023-09-03', '2023-09-04', '2023-09-05',\n",
              "       '2023-09-06', '2023-09-07', '2023-09-08', '2023-09-09',\n",
              "       '2023-09-10', '2023-09-11', '2023-09-12', '2023-09-13',\n",
              "       '2023-09-14', '2023-09-15', '2023-09-16', '2023-09-17',\n",
              "       '2023-09-18', '2023-09-19', '2023-09-20', '2023-09-21',\n",
              "       '2023-09-22', '2023-09-23', '2023-09-24', '2023-09-25',\n",
              "       '2023-09-26', '2023-09-27', '2023-09-28', '2023-09-29',\n",
              "       '2023-09-30', '2023-10-01', '2023-10-02', '2023-10-03',\n",
              "       '2023-10-04', '2023-10-05', '2023-10-06', '2023-10-07',\n",
              "       '2023-10-08', '2023-10-09', '2023-10-10', '2023-10-11',\n",
              "       '2023-10-12', '2023-10-13', '2023-10-14', '2023-10-15',\n",
              "       '2023-10-16', '2023-10-17', '2023-10-18', '2023-10-19',\n",
              "       '2023-10-20', '2023-10-21', '2023-10-22', '2023-10-23',\n",
              "       '2023-10-24', '2023-10-25', '2023-10-26', '2023-10-27',\n",
              "       '2023-10-28', '2023-10-29', '2023-10-30', '2023-10-31',\n",
              "       '2023-11-01', '2023-11-02', '2023-11-03', '2023-11-04',\n",
              "       '2023-11-05', '2023-11-06', '2023-11-07', '2023-11-08',\n",
              "       '2023-11-09', '2023-11-10', '2023-11-11', '2023-11-12',\n",
              "       '2023-11-13', '2023-11-14', '2023-11-15', '2023-11-16',\n",
              "       '2023-11-17', '2023-11-18', '2023-11-19', '2023-11-20',\n",
              "       '2023-11-21', '2023-11-22', '2023-11-23', '2023-11-24',\n",
              "       '2023-11-25', '2023-11-26', '2023-11-27', '2023-11-28',\n",
              "       '2023-11-29', '2023-11-30', '2023-12-01', '2023-12-02',\n",
              "       '2023-12-03', '2023-12-04', '2023-12-05', '2023-12-06',\n",
              "       '2023-12-07', '2023-12-08', '2023-12-09', '2023-12-10',\n",
              "       '2023-12-11', '2023-12-12', '2023-12-13', '2023-12-14',\n",
              "       '2023-12-15', '2023-12-16', '2023-12-17', '2023-12-18',\n",
              "       '2023-12-19', '2023-12-20', '2023-12-21', '2023-12-22',\n",
              "       '2023-12-23', '2023-12-24', '2023-12-25', '2023-12-26',\n",
              "       '2023-12-27', '2023-12-28', '2023-12-29', '2023-12-30'],\n",
              "      dtype='datetime64[D]')"
            ]
          },
          "metadata": {},
          "execution_count": 36
        }
      ]
    },
    {
      "cell_type": "code",
      "source": [
        "np.log(2.718)"
      ],
      "metadata": {
        "colab": {
          "base_uri": "https://localhost:8080/"
        },
        "id": "7dhp_NgeFv7T",
        "outputId": "70fbd4a0-c4ea-4728-a8bf-051c4bb1ce7b"
      },
      "execution_count": null,
      "outputs": [
        {
          "output_type": "execute_result",
          "data": {
            "text/plain": [
              "0.999896315728952"
            ]
          },
          "metadata": {},
          "execution_count": 43
        }
      ]
    },
    {
      "cell_type": "code",
      "source": [
        "np.eye(5)\n"
      ],
      "metadata": {
        "colab": {
          "base_uri": "https://localhost:8080/"
        },
        "id": "P3Acrt62ITum",
        "outputId": "b68c135e-db9b-40cf-ff20-6bb84a6f9a31"
      },
      "execution_count": null,
      "outputs": [
        {
          "output_type": "execute_result",
          "data": {
            "text/plain": [
              "array([[1., 0., 0., 0., 0.],\n",
              "       [0., 1., 0., 0., 0.],\n",
              "       [0., 0., 1., 0., 0.],\n",
              "       [0., 0., 0., 1., 0.],\n",
              "       [0., 0., 0., 0., 1.]])"
            ]
          },
          "metadata": {},
          "execution_count": 46
        }
      ]
    },
    {
      "cell_type": "code",
      "source": [
        "np.linspace(0,10,11,dtype=int)"
      ],
      "metadata": {
        "colab": {
          "base_uri": "https://localhost:8080/"
        },
        "id": "gaFfyY7NI_Be",
        "outputId": "c6f990d8-fcdf-4715-94df-223abbcefaa2"
      },
      "execution_count": null,
      "outputs": [
        {
          "output_type": "execute_result",
          "data": {
            "text/plain": [
              "array([ 0,  1,  2,  3,  4,  5,  6,  7,  8,  9, 10])"
            ]
          },
          "metadata": {},
          "execution_count": 52
        }
      ]
    },
    {
      "cell_type": "code",
      "source": [
        "np.random.random((3,3))"
      ],
      "metadata": {
        "colab": {
          "base_uri": "https://localhost:8080/"
        },
        "id": "63UwyZaYJUdG",
        "outputId": "e0c76b18-b27b-4b47-956f-de17d0944536"
      },
      "execution_count": null,
      "outputs": [
        {
          "output_type": "execute_result",
          "data": {
            "text/plain": [
              "array([[0.73224997, 0.50583589, 0.91240144],\n",
              "       [0.80589148, 0.5182967 , 0.71484021],\n",
              "       [0.48051761, 0.55907876, 0.36653385]])"
            ]
          },
          "metadata": {},
          "execution_count": 56
        }
      ]
    },
    {
      "cell_type": "markdown",
      "source": [
        "a = np.array([[2,3],[6,4]])\n",
        "\n",
        "b = np.array([[3,6],[4,9]])]])\n",
        "\n",
        "perform horizontal, vertical, row, cloumn and depth stacking\n",
        "\n",
        "append a to b\n",
        "\n",
        "concatenate a and b"
      ],
      "metadata": {
        "id": "Bvqj5LiILU1S"
      }
    },
    {
      "cell_type": "code",
      "source": [
        "a = np.array([[2,3],[6,4]],dtype=int)\n",
        "b = np.array([[3,6],[4,9]],dtype=int)\n",
        "\n",
        "h = np.hstack((a,b))\n",
        "v = np.vstack((a,b))\n",
        "r = np.row_stack((a,b))\n",
        "c = np.column_stack((a,b))\n",
        "d = np.dstack((a,b))\n",
        "print(h)\n",
        "print()\n",
        "print(v)\n",
        "print()\n",
        "print(r)\n",
        "print()\n",
        "print(c)\n",
        "print()\n",
        "print(d)\n",
        "print()\n",
        "print(np.concatenate((b,a),axis=None))\n",
        "print()\n",
        "print(np.append(a,b))"
      ],
      "metadata": {
        "colab": {
          "base_uri": "https://localhost:8080/"
        },
        "id": "k4WcdpbuJw8a",
        "outputId": "6e895cd0-e664-4a7e-c7e2-cf9cf18bd554"
      },
      "execution_count": null,
      "outputs": [
        {
          "output_type": "stream",
          "name": "stdout",
          "text": [
            "[[2 3 3 6]\n",
            " [6 4 4 9]]\n",
            "\n",
            "[[2 3]\n",
            " [6 4]\n",
            " [3 6]\n",
            " [4 9]]\n",
            "\n",
            "[[2 3]\n",
            " [6 4]\n",
            " [3 6]\n",
            " [4 9]]\n",
            "\n",
            "[[2 3 3 6]\n",
            " [6 4 4 9]]\n",
            "\n",
            "[[[2 3]\n",
            "  [3 6]]\n",
            "\n",
            " [[6 4]\n",
            "  [4 9]]]\n",
            "\n",
            "[3 6 4 9 2 3 6 4]\n",
            "\n",
            "[2 3 6 4 3 6 4 9]\n"
          ]
        }
      ]
    },
    {
      "cell_type": "markdown",
      "source": [
        "horizontal and vertical split"
      ],
      "metadata": {
        "id": "c8yVPufVQsbG"
      }
    },
    {
      "cell_type": "code",
      "source": [
        "a = np.array([[1,2,3],[4,5,6],[7,8,9],[10,11,12],[13,14,15],[16,17,18]])\n",
        "\n",
        "print(np.hsplit(a,3))\n",
        "print()\n",
        "print(np.vsplit(a,6))\n",
        "print()"
      ],
      "metadata": {
        "colab": {
          "base_uri": "https://localhost:8080/"
        },
        "id": "IkpHegwULpr7",
        "outputId": "5e1034e0-9e97-4894-f2bf-db491382dd07"
      },
      "execution_count": null,
      "outputs": [
        {
          "output_type": "stream",
          "name": "stdout",
          "text": [
            "[array([[ 1],\n",
            "       [ 4],\n",
            "       [ 7],\n",
            "       [10],\n",
            "       [13],\n",
            "       [16]]), array([[ 2],\n",
            "       [ 5],\n",
            "       [ 8],\n",
            "       [11],\n",
            "       [14],\n",
            "       [17]]), array([[ 3],\n",
            "       [ 6],\n",
            "       [ 9],\n",
            "       [12],\n",
            "       [15],\n",
            "       [18]])]\n",
            "\n",
            "[array([[1, 2, 3]]), array([[4, 5, 6]]), array([[7, 8, 9]]), array([[10, 11, 12]]), array([[13, 14, 15]]), array([[16, 17, 18]])]\n",
            "\n"
          ]
        }
      ]
    },
    {
      "cell_type": "markdown",
      "source": [
        "find rank,trace,inverse,transpose,det, eigenvalues and vectors"
      ],
      "metadata": {
        "id": "Ra8e_Ds2QwKe"
      }
    },
    {
      "cell_type": "code",
      "source": [
        "from numpy import linalg as la\n",
        "a = ([[1,4,7],[3,1,9],[2,8,11]])\n",
        "print(la.matrix_rank(a))\n",
        "print()\n",
        "print(np.trace(a))\n",
        "print()\n",
        "print(la.inv(a))\n",
        "print()\n",
        "print(np.transpose(a))\n",
        "print()\n",
        "print(la.det(a))\n",
        "print()\n",
        "print(la.eig(a))"
      ],
      "metadata": {
        "colab": {
          "base_uri": "https://localhost:8080/"
        },
        "id": "CJg1JVRtNazx",
        "outputId": "7440b0e2-5da5-49af-9fb1-5bd03815020a"
      },
      "execution_count": 103,
      "outputs": [
        {
          "output_type": "stream",
          "name": "stdout",
          "text": [
            "3\n",
            "\n",
            "13\n",
            "\n",
            "[[-1.84848485  0.36363636  0.87878788]\n",
            " [-0.45454545 -0.09090909  0.36363636]\n",
            " [ 0.66666667  0.         -0.33333333]]\n",
            "\n",
            "[[ 1  3  2]\n",
            " [ 4  1  8]\n",
            " [ 7  9 11]]\n",
            "\n",
            "33.000000000000014\n",
            "\n",
            "(array([17.41535066, -0.48171173, -3.93363893]), array([[-0.44018011, -0.89954986,  0.05526996],\n",
            "       [-0.49219026, -0.26902919, -0.88319891],\n",
            "       [-0.75099282,  0.34414147,  0.46573052]]))\n"
          ]
        }
      ]
    },
    {
      "cell_type": "markdown",
      "source": [
        "find correlation coefficient"
      ],
      "metadata": {
        "id": "DRo_JgmvQ2ol"
      }
    },
    {
      "cell_type": "code",
      "source": [
        "a = np.array([[11,17,42],[21,19,27]])\n",
        "b = np.array([[12,44,39],[62,81,10]])\n",
        "\n",
        "np.corrcoef(a,b)"
      ],
      "metadata": {
        "colab": {
          "base_uri": "https://localhost:8080/"
        },
        "id": "P44jgk3zO806",
        "outputId": "0fdbe748-a831-467e-85a4-741cda76a311"
      },
      "execution_count": 108,
      "outputs": [
        {
          "output_type": "execute_result",
          "data": {
            "text/plain": [
              "array([[ 1.        ,  0.9106039 ,  0.53232532, -0.90264562],\n",
              "       [ 0.9106039 ,  1.        ,  0.13487934, -0.99982205],\n",
              "       [ 0.53232532,  0.13487934,  1.        , -0.11616343],\n",
              "       [-0.90264562, -0.99982205, -0.11616343,  1.        ]])"
            ]
          },
          "metadata": {},
          "execution_count": 108
        }
      ]
    },
    {
      "cell_type": "markdown",
      "source": [
        " Create a function that takes dimensions as tuples e.g.(3, 3) and a numeric value and returns a Numpy array of the given dimension filled with the given value e.g.: solve((3, 3), 5) will return [ [5, 5, 5], [5, 5, 5], [5, 5, 5] ]"
      ],
      "metadata": {
        "id": "nGDjBnMNXWFm"
      }
    },
    {
      "cell_type": "code",
      "source": [
        "def fill(size, value):\n",
        "  a = np.full((size),value)\n",
        "  return a\n",
        "\n",
        "fill((3,3),5)"
      ],
      "metadata": {
        "colab": {
          "base_uri": "https://localhost:8080/"
        },
        "id": "9zPfvCncXZtv",
        "outputId": "30c4ff2b-0b92-4532-f728-c1a529a3083e"
      },
      "execution_count": 111,
      "outputs": [
        {
          "output_type": "execute_result",
          "data": {
            "text/plain": [
              "array([[5, 5, 5],\n",
              "       [5, 5, 5],\n",
              "       [5, 5, 5]])"
            ]
          },
          "metadata": {},
          "execution_count": 111
        }
      ]
    },
    {
      "cell_type": "markdown",
      "source": [
        "Create a method that takes n Numpy arrays of same dimensions sums them and return the answer."
      ],
      "metadata": {
        "id": "ADcOtyqqXxzW"
      }
    },
    {
      "cell_type": "code",
      "source": [
        "def sum_array(*arrays):\n",
        "  shape = arrays[0].shape\n",
        "  result = np.zeros(shape,dtype=int)\n",
        "  for array in arrays:\n",
        "    result += array\n",
        "  return result\n",
        "\n",
        "sum_array(np.array((1,2,3)),np.array((1,2,3)),np.array((1,2,3)))"
      ],
      "metadata": {
        "colab": {
          "base_uri": "https://localhost:8080/"
        },
        "id": "shJ_0hCOX0Dz",
        "outputId": "5db3047b-a77d-40e4-86a3-3e56cd22a4b4"
      },
      "execution_count": 145,
      "outputs": [
        {
          "output_type": "execute_result",
          "data": {
            "text/plain": [
              "array([3, 6, 9])"
            ]
          },
          "metadata": {},
          "execution_count": 145
        }
      ]
    },
    {
      "cell_type": "markdown",
      "source": [
        "Given a 2 D Array of N X M Dimension, Write a function that accepts this array as well as two numbers N and M. The method should return the top-left N X M sub matrix e.g: [ [1, 2, 3], [4, 5, 6], [7, 8, 9], ] top_left_sub_matrix (matrix, 2, 2) -> should return: [ [1, 2] [4, 5] ]"
      ],
      "metadata": {
        "id": "3dloZo3wbl75"
      }
    },
    {
      "cell_type": "code",
      "source": [
        "def top(matrix,n,m):\n",
        "  return matrix[:n,:m]\n",
        "\n",
        "a = np.array([[1, 2, 3], [4, 5, 6], [7, 8, 9]])\n",
        "top(a,2,2)"
      ],
      "metadata": {
        "colab": {
          "base_uri": "https://localhost:8080/"
        },
        "id": "7w9gi_rCbnAO",
        "outputId": "1403c9f0-97ad-460e-cedf-a3b5dc226728"
      },
      "execution_count": 129,
      "outputs": [
        {
          "output_type": "execute_result",
          "data": {
            "text/plain": [
              "array([[1, 2],\n",
              "       [4, 5]])"
            ]
          },
          "metadata": {},
          "execution_count": 129
        }
      ]
    },
    {
      "cell_type": "markdown",
      "source": [
        "Given a 2 D Array of N X M Dimension, Write a function that accepts this array as well as two numbers N and M The method should return the bottom-right N X M sub matrix e.g.: [ [1, 2, 3], [4, 5, 6], [7, 8, 9], ] sub_matrix(matrix, 1, 1) -> should return : (Keep in mind these arrays are zero indexed) [ [5, 6] [8, 9] ]"
      ],
      "metadata": {
        "id": "XzrBTPuccvTB"
      }
    },
    {
      "cell_type": "code",
      "source": [
        "def sub(matrix,n,m):\n",
        "  return matrix[n:,m:]\n",
        "\n",
        "a = np.array([[1, 2, 3], [4, 5, 6], [7, 8, 9]])\n",
        "sub(a,1,1)"
      ],
      "metadata": {
        "colab": {
          "base_uri": "https://localhost:8080/"
        },
        "id": "RrWXrII_cwBB",
        "outputId": "dca05830-555a-46c9-f1fc-272f0b12f33c"
      },
      "execution_count": 131,
      "outputs": [
        {
          "output_type": "execute_result",
          "data": {
            "text/plain": [
              "array([[5, 6],\n",
              "       [8, 9]])"
            ]
          },
          "metadata": {},
          "execution_count": 131
        }
      ]
    },
    {
      "cell_type": "markdown",
      "source": [
        "Given a 1 D Numpy Array. Write a function that accepts this array as parameters. The method should return a dictionary with 'mean' and 'std_dev' as key and array's mean and array's standard deviation as values: [1, 1, 1] solution(arr) -> should return : {'mean': 1.0, 'std_dev': 0.0} "
      ],
      "metadata": {
        "id": "_jAlg3DndO4T"
      }
    },
    {
      "cell_type": "code",
      "source": [
        "def mean_std(array):\n",
        "  dict = {\"mean\":np.mean(array),\"std_dev\":np.std(array)}\n",
        "  return dict\n",
        "\n",
        "a = np.array((1,1,1))\n",
        "mean_std(a)"
      ],
      "metadata": {
        "colab": {
          "base_uri": "https://localhost:8080/"
        },
        "id": "UASE63VmdPzk",
        "outputId": "2e10b43c-13c3-4989-9d00-9987d6058b47"
      },
      "execution_count": 133,
      "outputs": [
        {
          "output_type": "execute_result",
          "data": {
            "text/plain": [
              "{'mean': 1.0, 'std_dev': 0.0}"
            ]
          },
          "metadata": {},
          "execution_count": 133
        }
      ]
    }
  ]
}